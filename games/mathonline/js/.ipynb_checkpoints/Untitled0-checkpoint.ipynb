{
 "metadata": {
  "name": ""
 },
 "nbformat": 3,
 "nbformat_minor": 0,
 "worksheets": [
  {
   "cells": [
    {
     "cell_type": "code",
     "collapsed": false,
     "input": [
      "import os\n",
      "import re\n",
      "CUR = \"/Users/brooklyn/Code/javascript/math/js\"\n",
      "theObj = [\"host,location,substring,random,floor,$,prop,home,init,prototype,height,body,.player_container,resize,preventDefault,curr_screen,play,keyCode,goScreen,submit,game_over,keyup,click,.btn-true,.btn-fail,.sound-reload,.btn-play,.btn-boot-game,.btn-home,changeBodyColor,randomBetween,mc-screen-,curr_bg_index,removeClass,addClass,freaky,math,.com,hide,.screen,fast,fadeIn,.screen-3,score,.screen-1,newQuestion,.screen-2,html,.new-score,get_score,.best-score,timelineStep,action_game_over,width,.loading,runners,inArray,startTimeline,show,play_timeout,getTime,push,curr_result, + ,.cm-display .statement,=,.cm-display .result,.cm-display .current-score,save_score,setItem,getItem,.sound-fail,action_game_passed,.sound-passed,.current-score,ready\"]\n",
      "\n",
      "infile = os.path.join(CUR, \"enc.js\")\n",
      "outfile = os.path.join(CUR, \"dec.js\")\n",
      "with open(infile, \"r\") as rfile:\n",
      "    lines = rfile.readlines();\n",
      "    for line in lines:\n",
      "        if re.search(r'theObj\\[\\d+\\]', line):\n",
      "            print line\n",
      "    \n"
     ],
     "language": "python",
     "metadata": {},
     "outputs": [],
     "prompt_number": 1
    }
   ],
   "metadata": {}
  }
 ]
}